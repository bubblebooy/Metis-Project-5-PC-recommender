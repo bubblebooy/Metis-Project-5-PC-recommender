{
 "cells": [
  {
   "cell_type": "code",
   "execution_count": 19,
   "metadata": {
    "ExecuteTime": {
     "end_time": "2020-06-08T16:40:21.383111Z",
     "start_time": "2020-06-08T16:40:20.846281Z"
    }
   },
   "outputs": [],
   "source": [
    "import pandas as pd\n",
    "import numpy as np\n",
    "\n",
    "import networkx as nx\n",
    "\n",
    "import matplotlib.pyplot as plt\n"
   ]
  },
  {
   "cell_type": "code",
   "execution_count": 3,
   "metadata": {
    "ExecuteTime": {
     "end_time": "2020-06-08T16:31:02.250923Z",
     "start_time": "2020-06-08T16:31:01.815067Z"
    }
   },
   "outputs": [],
   "source": [
    "df_part_build = pd.read_pickle('part_build.plk')"
   ]
  },
  {
   "cell_type": "code",
   "execution_count": 229,
   "metadata": {
    "ExecuteTime": {
     "end_time": "2020-06-08T19:20:52.914366Z",
     "start_time": "2020-06-08T19:20:52.906368Z"
    }
   },
   "outputs": [],
   "source": [
    "df_part_build['type'].unique()\n",
    "df_part_build = df_part_build[df_part_build['type'].isin(['CPU','Motherboard','Memory','Storage','Video Card'])]"
   ]
  },
  {
   "cell_type": "code",
   "execution_count": 234,
   "metadata": {
    "ExecuteTime": {
     "end_time": "2020-06-08T19:24:06.651598Z",
     "start_time": "2020-06-08T19:24:06.635607Z"
    }
   },
   "outputs": [],
   "source": [
    "df_edges = df_part_build[['part_url','build_url']]\n",
    "df_edges = df_edges.drop_duplicates(['part_url','build_url'])\n",
    "df_edges = df_edges[df_edges.duplicated('part_url',keep = False)]"
   ]
  },
  {
   "cell_type": "code",
   "execution_count": 235,
   "metadata": {
    "ExecuteTime": {
     "end_time": "2020-06-08T19:24:07.066462Z",
     "start_time": "2020-06-08T19:24:06.978491Z"
    }
   },
   "outputs": [],
   "source": [
    "df_edges = df_part_build[['part_url','build_url']]\n",
    "df_edges = df_edges.drop_duplicates(['part_url','build_url'])\n",
    "df_edges = df_edges[df_edges.duplicated('part_url',keep = False)]\n",
    "\n",
    "df_edges =  pd.merge(df_edges,\n",
    "                     df_edges,\n",
    "                     how='inner',on='build_url').set_index('build_url')\n",
    "df_edges = df_edges[df_edges['part_url_x'] != df_edges['part_url_y']]\n",
    "df_edges['count'] = 1\n",
    "df_edges = df_edges.groupby(['part_url_x','part_url_y']).count().reset_index()\n",
    "df_edges.sort_values('count',ascending = False)#.loc['/b/nYHBD3']\n",
    "\n",
    "df_edges = df_edges.loc[pd.DataFrame(np.sort(df_edges[['part_url_x','part_url_y']],1),index=df_edges.index).drop_duplicates(keep='first').index]"
   ]
  },
  {
   "cell_type": "code",
   "execution_count": 236,
   "metadata": {
    "ExecuteTime": {
     "end_time": "2020-06-08T19:24:07.489326Z",
     "start_time": "2020-06-08T19:24:07.478327Z"
    }
   },
   "outputs": [
    {
     "data": {
      "text/html": [
       "<div>\n",
       "<style scoped>\n",
       "    .dataframe tbody tr th:only-of-type {\n",
       "        vertical-align: middle;\n",
       "    }\n",
       "\n",
       "    .dataframe tbody tr th {\n",
       "        vertical-align: top;\n",
       "    }\n",
       "\n",
       "    .dataframe thead th {\n",
       "        text-align: right;\n",
       "    }\n",
       "</style>\n",
       "<table border=\"1\" class=\"dataframe\">\n",
       "  <thead>\n",
       "    <tr style=\"text-align: right;\">\n",
       "      <th></th>\n",
       "      <th>part_url_x</th>\n",
       "      <th>part_url_y</th>\n",
       "      <th>count</th>\n",
       "    </tr>\n",
       "  </thead>\n",
       "  <tbody>\n",
       "    <tr>\n",
       "      <th>2422</th>\n",
       "      <td>/product/9nm323</td>\n",
       "      <td>/product/jcYQzy</td>\n",
       "      <td>39</td>\n",
       "    </tr>\n",
       "    <tr>\n",
       "      <th>2437</th>\n",
       "      <td>/product/9nm323</td>\n",
       "      <td>/product/mwrYcf</td>\n",
       "      <td>38</td>\n",
       "    </tr>\n",
       "    <tr>\n",
       "      <th>6995</th>\n",
       "      <td>/product/QKJtt6</td>\n",
       "      <td>/product/mwrYcf</td>\n",
       "      <td>25</td>\n",
       "    </tr>\n",
       "    <tr>\n",
       "      <th>4447</th>\n",
       "      <td>/product/JLdxFT</td>\n",
       "      <td>/product/QKJtt6</td>\n",
       "      <td>20</td>\n",
       "    </tr>\n",
       "    <tr>\n",
       "      <th>2445</th>\n",
       "      <td>/product/9nm323</td>\n",
       "      <td>/product/p6RFf7</td>\n",
       "      <td>20</td>\n",
       "    </tr>\n",
       "  </tbody>\n",
       "</table>\n",
       "</div>"
      ],
      "text/plain": [
       "           part_url_x       part_url_y  count\n",
       "2422  /product/9nm323  /product/jcYQzy     39\n",
       "2437  /product/9nm323  /product/mwrYcf     38\n",
       "6995  /product/QKJtt6  /product/mwrYcf     25\n",
       "4447  /product/JLdxFT  /product/QKJtt6     20\n",
       "2445  /product/9nm323  /product/p6RFf7     20"
      ]
     },
     "execution_count": 236,
     "metadata": {},
     "output_type": "execute_result"
    }
   ],
   "source": [
    "# df_edges = df_edges[df_edges['count'] > 10]\n",
    "df_edges.sort_values('count',ascending = False).head()\n",
    "# df_edges.index = df_edges.index.rename('id')\n",
    "# df_edges = df_edges.rename(columns = {'part_url_x':'Source','part_url_y':'Target','count':'Weight'})\n",
    "# df_edges.to_csv('edge_list.csv')\n"
   ]
  },
  {
   "cell_type": "code",
   "execution_count": null,
   "metadata": {},
   "outputs": [],
   "source": []
  },
  {
   "cell_type": "code",
   "execution_count": 240,
   "metadata": {
    "ExecuteTime": {
     "end_time": "2020-06-08T19:24:30.238259Z",
     "start_time": "2020-06-08T19:24:30.224262Z"
    }
   },
   "outputs": [
    {
     "data": {
      "text/html": [
       "<div>\n",
       "<style scoped>\n",
       "    .dataframe tbody tr th:only-of-type {\n",
       "        vertical-align: middle;\n",
       "    }\n",
       "\n",
       "    .dataframe tbody tr th {\n",
       "        vertical-align: top;\n",
       "    }\n",
       "\n",
       "    .dataframe thead th {\n",
       "        text-align: right;\n",
       "    }\n",
       "</style>\n",
       "<table border=\"1\" class=\"dataframe\">\n",
       "  <thead>\n",
       "    <tr style=\"text-align: right;\">\n",
       "      <th></th>\n",
       "      <th>part_url_x</th>\n",
       "      <th>part_url_y</th>\n",
       "      <th>count</th>\n",
       "    </tr>\n",
       "  </thead>\n",
       "  <tbody>\n",
       "    <tr>\n",
       "      <th>0</th>\n",
       "      <td>/product/23gzK8</td>\n",
       "      <td>/product/484BD3</td>\n",
       "      <td>1</td>\n",
       "    </tr>\n",
       "    <tr>\n",
       "      <th>1</th>\n",
       "      <td>/product/23gzK8</td>\n",
       "      <td>/product/6mm323</td>\n",
       "      <td>1</td>\n",
       "    </tr>\n",
       "    <tr>\n",
       "      <th>2</th>\n",
       "      <td>/product/23gzK8</td>\n",
       "      <td>/product/GTCD4D</td>\n",
       "      <td>1</td>\n",
       "    </tr>\n",
       "    <tr>\n",
       "      <th>3</th>\n",
       "      <td>/product/23gzK8</td>\n",
       "      <td>/product/NyTPxr</td>\n",
       "      <td>1</td>\n",
       "    </tr>\n",
       "    <tr>\n",
       "      <th>4</th>\n",
       "      <td>/product/23gzK8</td>\n",
       "      <td>/product/bddxFT</td>\n",
       "      <td>1</td>\n",
       "    </tr>\n",
       "    <tr>\n",
       "      <th>...</th>\n",
       "      <td>...</td>\n",
       "      <td>...</td>\n",
       "      <td>...</td>\n",
       "    </tr>\n",
       "    <tr>\n",
       "      <th>15800</th>\n",
       "      <td>/product/zR3H99</td>\n",
       "      <td>/product/zZKcCJ</td>\n",
       "      <td>1</td>\n",
       "    </tr>\n",
       "    <tr>\n",
       "      <th>15801</th>\n",
       "      <td>/product/zR3H99</td>\n",
       "      <td>/product/zcH8TW</td>\n",
       "      <td>1</td>\n",
       "    </tr>\n",
       "    <tr>\n",
       "      <th>15802</th>\n",
       "      <td>/product/zR3H99</td>\n",
       "      <td>/product/zk7CmG</td>\n",
       "      <td>1</td>\n",
       "    </tr>\n",
       "    <tr>\n",
       "      <th>15834</th>\n",
       "      <td>/product/zZKcCJ</td>\n",
       "      <td>/product/zk7CmG</td>\n",
       "      <td>1</td>\n",
       "    </tr>\n",
       "    <tr>\n",
       "      <th>15998</th>\n",
       "      <td>/product/zwYQzy</td>\n",
       "      <td>/product/zzvqqs</td>\n",
       "      <td>1</td>\n",
       "    </tr>\n",
       "  </tbody>\n",
       "</table>\n",
       "<p>8005 rows × 3 columns</p>\n",
       "</div>"
      ],
      "text/plain": [
       "            part_url_x       part_url_y  count\n",
       "0      /product/23gzK8  /product/484BD3      1\n",
       "1      /product/23gzK8  /product/6mm323      1\n",
       "2      /product/23gzK8  /product/GTCD4D      1\n",
       "3      /product/23gzK8  /product/NyTPxr      1\n",
       "4      /product/23gzK8  /product/bddxFT      1\n",
       "...                ...              ...    ...\n",
       "15800  /product/zR3H99  /product/zZKcCJ      1\n",
       "15801  /product/zR3H99  /product/zcH8TW      1\n",
       "15802  /product/zR3H99  /product/zk7CmG      1\n",
       "15834  /product/zZKcCJ  /product/zk7CmG      1\n",
       "15998  /product/zwYQzy  /product/zzvqqs      1\n",
       "\n",
       "[8005 rows x 3 columns]"
      ]
     },
     "execution_count": 240,
     "metadata": {},
     "output_type": "execute_result"
    }
   ],
   "source": [
    "sub_edges = df_edges#[(df_edges['part_url_x'] == '/product/9nm323') | (df_edges['part_url_y'] == '/product/9nm323')]\n",
    "sub_edges"
   ]
  },
  {
   "cell_type": "code",
   "execution_count": 241,
   "metadata": {
    "ExecuteTime": {
     "end_time": "2020-06-08T19:24:30.807072Z",
     "start_time": "2020-06-08T19:24:30.785079Z"
    }
   },
   "outputs": [],
   "source": [
    "sub_edges = [ tuple(edge[:2]) for edge in np.array(df_edges)]"
   ]
  },
  {
   "cell_type": "code",
   "execution_count": 242,
   "metadata": {
    "ExecuteTime": {
     "end_time": "2020-06-08T19:24:31.639824Z",
     "start_time": "2020-06-08T19:24:31.616832Z"
    }
   },
   "outputs": [],
   "source": [
    "G = nx.Graph()\n",
    "# G.add_nodes_from(df_part_build.part_url.drop_duplicates())\n",
    "G.add_edges_from(sub_edges) # add_weighted_edges_from # add_edges_from"
   ]
  },
  {
   "cell_type": "code",
   "execution_count": 243,
   "metadata": {
    "ExecuteTime": {
     "end_time": "2020-06-08T19:24:39.813771Z",
     "start_time": "2020-06-08T19:24:32.270641Z"
    }
   },
   "outputs": [
    {
     "data": {
      "image/png": "[encoded data removed]",
      "text/plain": [
       "<Figure size 432x288 with 1 Axes>"
      ]
     },
     "metadata": {},
     "output_type": "display_data"
    }
   ],
   "source": [
    "nx.draw(G) # , pos=nx.spectral_layout(G) # , pos = nx.circular_layout(G)"
   ]
  },
  {
   "cell_type": "code",
   "execution_count": 70,
   "metadata": {
    "ExecuteTime": {
     "end_time": "2020-06-08T17:23:01.712510Z",
     "start_time": "2020-06-08T17:23:01.707511Z"
    }
   },
   "outputs": [
    {
     "data": {
      "text/plain": [
       "AtlasView({'/product/6hF48d': {'weight': 1}, '/product/BM848d': {'weight': 1}, '/product/PwtQzy': {'weight': 1}, '/product/VhkgXL': {'weight': 1}, '/product/VwbwrH': {'weight': 1}, '/product/bddxFT': {'weight': 1}, '/product/fPFXsY': {'weight': 1}, '/product/fPm323': {'weight': 1}, '/product/hWs8TW': {'weight': 1}, '/product/tkL7YJ': {'weight': 1}, '/product/vbkgXL': {'weight': 1}, '/product/vfDJ7P': {'weight': 1}})"
      ]
     },
     "execution_count": 70,
     "metadata": {},
     "output_type": "execute_result"
    }
   ],
   "source": [
    "G['/product/NcQypg']"
   ]
  },
  {
   "cell_type": "code",
   "execution_count": 208,
   "metadata": {
    "ExecuteTime": {
     "end_time": "2020-06-08T19:11:21.817319Z",
     "start_time": "2020-06-08T19:11:21.807323Z"
    }
   },
   "outputs": [
    {
     "data": {
      "text/plain": [
       "0     /product/xttWGX\n",
       "1     /product/rt98TW\n",
       "2     /product/6KdxFT\n",
       "3     /product/2CVBD3\n",
       "4     /product/9xL7YJ\n",
       "5     /product/BKKhP6\n",
       "6     /product/x6648d\n",
       "7     /product/WkRFf7\n",
       "8     /product/FqBTwP\n",
       "9     /product/8hmxFT\n",
       "10    /product/TgcMnQ\n",
       "11    /product/p78H99\n",
       "12    /product/DDp323\n",
       "13    /product/xjGj4D\n",
       "14    /product/rtzv6h\n",
       "15    /product/tbJwrH\n",
       "16    /product/fqkgXL\n",
       "17    /product/s2ZFf7\n",
       "18    /product/tdmxFT\n",
       "19    /product/Qvzkcf\n",
       "20    /product/zcH48d\n",
       "21    /product/DHCD4D\n",
       "22    /product/Ktzv6h\n",
       "23    /product/whbp99\n",
       "24    /product/rsWfrH\n",
       "Name: Id, dtype: object"
      ]
     },
     "execution_count": 208,
     "metadata": {},
     "output_type": "execute_result"
    }
   ],
   "source": [
    "df_gephi = pd.read_csv('Gephi_group.csv')\n",
    "df_gephi=df_gephi['Id']\n",
    "df_gephi"
   ]
  },
  {
   "cell_type": "code",
   "execution_count": 223,
   "metadata": {
    "ExecuteTime": {
     "end_time": "2020-06-08T19:18:39.558607Z",
     "start_time": "2020-06-08T19:18:39.545611Z"
    }
   },
   "outputs": [
    {
     "data": {
      "text/plain": [
       "array(['/b/zV7TwP', '/b/6Wb8TW', '/b/4CL2FT', '/b/kDx6Mp', '/b/ZKBZxr',\n",
       "       '/b/c29G3C', '/b/vJ8MnQ', '/b/Bn7TwP', '/b/mcq323', '/b/hyk6Mp',\n",
       "       '/b/g7TCmG', '/b/LCb8TW', '/b/VTCLrH', '/b/LZf9TW', '/b/w4n7YJ',\n",
       "       '/b/6V7TwP', '/b/Wjp8TW', '/b/R7Wbt6', '/b/Kw6RsY', '/b/xKBZxr',\n",
       "       '/b/ZD27YJ', '/b/zRJbt6', '/b/nvWbt6'], dtype=object)"
      ]
     },
     "execution_count": 223,
     "metadata": {},
     "output_type": "execute_result"
    }
   ],
   "source": [
    "df_part_build.set_index('part_url').loc[df_gephi]['build_url'].unique() #.drop_duplicates('part_url',keep='last')"
   ]
  },
  {
   "cell_type": "code",
   "execution_count": null,
   "metadata": {},
   "outputs": [],
   "source": []
  }
 ],
 "metadata": {
  "kernelspec": {
   "display_name": "Python [conda env:metis] *",
   "language": "python",
   "name": "conda-env-metis-py"
  },
  "language_info": {
   "codemirror_mode": {
    "name": "ipython",
    "version": 3
   },
   "file_extension": ".py",
   "mimetype": "text/x-python",
   "name": "python",
   "nbconvert_exporter": "python",
   "pygments_lexer": "ipython3",
   "version": "3.7.6"
  },
  "toc": {
   "base_numbering": 1,
   "nav_menu": {},
   "number_sections": true,
   "sideBar": true,
   "skip_h1_title": false,
   "title_cell": "Table of Contents",
   "title_sidebar": "Contents",
   "toc_cell": false,
   "toc_position": {},
   "toc_section_display": true,
   "toc_window_display": false
  },
  "varInspector": {
   "cols": {
    "lenName": 16,
    "lenType": 16,
    "lenVar": 40
   },
   "kernels_config": {
    "python": {
     "delete_cmd_postfix": "",
     "delete_cmd_prefix": "del ",
     "library": "var_list.py",
     "varRefreshCmd": "print(var_dic_list())"
    },
    "r": {
     "delete_cmd_postfix": ") ",
     "delete_cmd_prefix": "rm(",
     "library": "var_list.r",
     "varRefreshCmd": "cat(var_dic_list()) "
    }
   },
   "types_to_exclude": [
    "module",
    "function",
    "builtin_function_or_method",
    "instance",
    "_Feature"
   ],
   "window_display": false
  }
 },
 "nbformat": 4,
 "nbformat_minor": 4
}
